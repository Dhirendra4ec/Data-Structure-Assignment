{
 "cells": [
  {
   "cell_type": "markdown",
   "id": "549bb2fe",
   "metadata": {},
   "source": [
    "**Data Types and Structures\n",
    "Assignment Questions**"
   ]
  },
  {
   "cell_type": "markdown",
   "id": "8c704d8d",
   "metadata": {},
   "source": [
    "1. What are data structures, and why are they important?"
   ]
  },
  {
   "cell_type": "markdown",
   "id": "da8d2c05",
   "metadata": {},
   "source": [
    "ANS : \n",
    "A data structure is a specialized format for organizing, storing, processing, and retrieving data in a computer system. It defines the relationships among data values and the operations or functions that can be applied to the data, enabling efficient access and manipulation. Data structures define how data elements are related to each other and what operations can be performed on them, such as insertion, deletion, searching, and sorting.\n",
    ">> Importance of data structures:\n",
    "- They enable efficient data access and manipulation.\n",
    "- They help optimize the use of memory and processing resources.\n",
    "- They make it easier to manage large amounts of data.\n",
    "- They are essential for implementing algorithms and solving complex computational problems."
   ]
  },
  {
   "cell_type": "markdown",
   "id": "37f956d0",
   "metadata": {},
   "source": [
    "2. Explain the difference between mutable and immutable data types with examples?\n",
    "\n",
    "ANS: \n",
    "Mutable data types are those whose values can be changed after they are created. You can modify, add, or remove elements without creating a new object.\n",
    "\n",
    "Examples:\n",
    "\n",
    "- List:\n",
    "list = [1, 2, 3]\n",
    "list[0] = 10  # list is [10, 2, 3]\n",
    "\n",
    "- Dictionary:\n",
    "dict = {'a': 1, 'b': 2}\n",
    "dict['a'] = 5     # dict is {'a': 5, 'b': 2}\n",
    "\n",
    "- Set:\n",
    "set = {1, 2, 3}\n",
    "set.add(4)        # set is {1, 2, 3, 4}\n",
    "\n",
    "Immutable data types are those whose values cannot be changed after they are created. Any modification creates a new object.\n",
    "\n",
    "Examples:\n",
    "\n",
    "- String:\n",
    "str = \"hello\"\n",
    "str[0] = \"H\"         # This will cause an error\n",
    "str = \"Hello\"        # This creates a new string object\n",
    "\n",
    "- Tuple:\n",
    "tuple = (1, 2, 3)\n",
    "tuple[0] = 10        # This will cause an error\n",
    "\n",
    "- Integer, Float, Boolean:\n",
    "x = 5\n",
    "x = x + 1            # This creates a new integer object\n",
    "\n"
   ]
  },
  {
   "cell_type": "markdown",
   "id": "81ba1536",
   "metadata": {},
   "source": [
    "3. What are the main differences between lists and tuples in Python?\n",
    "\n",
    "ANS : \n",
    "\n",
    "Mutability:\n",
    "\n",
    "Lists are mutable, meaning their elements can be changed, added, or removed after creation.\n",
    "Tuples are immutable, so their elements cannot be changed once defined.\n",
    "\n",
    "Syntax:\n",
    "\n",
    "Lists use square brackets: [1, 2, 3]\n",
    "Tuples use parentheses: (1, 2, 3)\n",
    "\n",
    "Methods:\n",
    "\n",
    "Lists have many built-in methods like append(), remove(), and sort().\n",
    "Tuples have very few methods, mainly count() and index().\n",
    "\n",
    "Performance:\n",
    "\n",
    "Tuples are generally faster than lists for iteration and access, due to their immutability.\n",
    "\n",
    "Use cases:\n",
    "\n",
    "Lists are used when you need a collection of items that may change.\n",
    "Tuples are used for fixed collections of items, or when you want to ensure data cannot be modified.\n",
    "\n",
    "Example:\n",
    "list = [1, 2, 3]\n",
    "list[0] = 10  # Allowed\n",
    "\n",
    "tuple = (1, 2, 3)\n",
    "tuple[0] = 10  # Not allowed, raises TypeError\n",
    "\n"
   ]
  },
  {
   "cell_type": "markdown",
   "id": "6fa2725a",
   "metadata": {},
   "source": [
    "4. Describe how dictionaries store data?\n",
    "\n",
    "ANS: \n",
    "\n",
    "Dictionaries in Python store data as key-value pairs. Each key is unique and is used to access its corresponding value. Internally, dictionaries use a data structure called a hash table. When you add a key-value pair, Python calculates a hash value for the key, which determines where the value is stored in memory. This allows for very fast lookups, insertions, and deletions.\n",
    "\n",
    "- Keys must be immutable types (like strings, numbers, or tuples).\n",
    "- Values can be of any data type and can be duplicated.\n",
    "- Dictionary elements are unordered (before Python 3.7), but from Python 3.7 onwards, they maintain insertion order.\n",
    "\n",
    "Example:\n",
    "```python\n",
    "dict = {'name': 'Alice', 'age': 25, 'city': 'Delhi'}\n",
    "# 'name', 'age', and 'city' are keys; 'Alice', 25, and 'Delhi' are their values.\n",
    "```\n",
    "\n",
    "In summary, dictionaries provide an efficient way to store and retrieve data using unique keys.\n"
   ]
  },
  {
   "cell_type": "markdown",
   "id": "d5687048",
   "metadata": {},
   "source": [
    "5. Why might you use a set instead of a list in Python?\n",
    "\n",
    "ANS:\n",
    "\n",
    "You might use a set instead of a list in Python when you need to store a collection of unique elements and do not care about the order of those elements. Sets automatically remove duplicates and provide fast membership testing (checking if an item exists in the set).\n",
    "\n",
    "Key reasons to use a set:\n",
    "- Uniqueness: Sets do not allow duplicate values, so they are ideal for storing unique items.\n",
    "- Performance: Sets provide faster operations for checking membership, adding, and removing elements compared to lists.\n",
    "- Set operations: Sets support mathematical operations like union, intersection, and difference, which are useful for comparing collections.\n",
    "\n",
    "Example:\n",
    "\n",
    "- list = [1, 2, 2, 3, 4, 4]\n",
    "- set = set(list)  # set is {1, 2, 3, 4}\n",
    "\n",
    "In summary, use a set when you need uniqueness and efficient membership tests, or when you want to perform set operations."
   ]
  },
  {
   "cell_type": "markdown",
   "id": "d5636d08",
   "metadata": {},
   "source": [
    "6. What is a string in Python, and how is it different from a list?\n",
    "\n",
    "ANS: \n",
    "\n",
    "A string in Python is a sequence of characters enclosed in single, double, or triple quotes (e.g., \"hello\", 'world'). Strings are immutable, meaning their contents cannot be changed after creation.\n",
    "\n",
    "A list in Python is an ordered collection of items (which can be of any data type) enclosed in square brackets (e.g., [1, 2, 3], ['a', 'b', 'c']). Lists are mutable, so you can change, add, or remove elements after the list is created.\n",
    "\n",
    "Key differences:\n",
    "\n",
    "Mutability: Strings are immutable; lists are mutable.\n",
    "Element types: Strings can only contain characters; lists can contain any data type.\n",
    "Syntax: Strings use quotes (\" \" or ' '); lists use square brackets ([ ]).\n",
    "\n",
    "- str = \"hello\"\n",
    "  str[0] = \"H\"  # Not allowed, raises TypeError\n",
    "\n",
    "- list = ['h', 'e', 'l', 'l', 'o']\n",
    "  list[0] = 'H'   # Allowed, list becomes ['H', 'e', 'l', 'l', 'o']\n",
    "\n"
   ]
  },
  {
   "cell_type": "markdown",
   "id": "b5b80bb1",
   "metadata": {},
   "source": [
    "7. How do tuples ensure data integrity in Python?\n",
    "\n",
    "ANS:\n",
    "\n",
    "Tuples ensure data integrity in Python by being immutable. Once a tuple is created, its elements cannot be changed, added, or removed. This immutability guarantees that the data stored in a tuple remains constant throughout the program, preventing accidental or intentional modifications. As a result, tuples are often used to store fixed collections of data, such as coordinates, dates, or configuration values, where it is important that the data does not change. This property helps maintain the reliability and consistency of data in your programs."
   ]
  },
  {
   "cell_type": "markdown",
   "id": "48cb5c96",
   "metadata": {},
   "source": [
    "8. What is a hash table, and how does it relate to dictionaries in Python?\n",
    "\n",
    "ANS:\n",
    "\n",
    "A hash table is a data structure that stores data in key-value pairs and uses a hash function to compute an index (hash value) for each key. This allows for very fast data retrieval, insertion, and deletion because the hash value determines where the value is stored in memory.\n",
    "\n",
    "In Python, dictionaries are implemented using hash tables. When you add a key-value pair to a dictionary, Python calculates the hash value of the key and uses it to determine where to store the value. This makes dictionary operations like looking up, adding, or removing items very efficient.\n",
    "\n",
    "Key points:\n",
    "\n",
    "Hash tables provide fast access to data using unique keys.\n",
    "Dictionary keys must be immutable and hashable (like strings, numbers, or tuples).\n",
    "Values in a dictionary can be of any data type.\n",
    "\n",
    "- dict = {'name': 'Alice', 'age': 25}\n",
    "'name' and 'age' are keys; 'Alice' and 25 are values."
   ]
  },
  {
   "cell_type": "markdown",
   "id": "cb5d07b8",
   "metadata": {},
   "source": [
    "9.  Can lists contain different data types in Python?\n",
    "\n",
    "ANS: \n",
    "\n",
    "Yes, lists in Python can contain different data types. A single list can store integers, floats, strings, booleans, complex numbers, or even other lists and objects together. This property is called heterogeneity.\n",
    "\n",
    "- list = [1, \"hello\", 3.14, True, [2, 3], None]\n",
    "\n",
    "Here, In `list` contains an integer, a string, a float, a boolean, another list, and a `None` value—all in the same list.\n",
    "\n",
    "This flexibility makes lists very useful for storing collections of related but different types of data."
   ]
  },
  {
   "cell_type": "markdown",
   "id": "9bfcf92a",
   "metadata": {},
   "source": [
    "10. Explain why strings are immutable in Python.\n",
    "\n",
    "ANS:\n",
    "\n",
    "Strings are immutable in Python because once a string is created, its contents cannot be changed. This means you cannot modify, add, or remove characters in a string after it is created. If you try to change a character, Python will raise a `TypeError`.\n",
    "\n",
    "Reasons for immutability:\n",
    "- Efficiency: Immutable strings can be stored and reused efficiently in memory, which improves performance, especially when strings are used as keys in dictionaries.\n",
    "- Safety: Immutability prevents accidental changes to strings, making code more reliable and less prone to bugs.\n",
    "- Hashing: Since strings are immutable, their hash value does not change, allowing them to be used as keys in dictionaries and elements in sets.\n",
    "\n",
    "Example:\n",
    "```python\n",
    "s = \"hello\"\n",
    "s[0] = \"H\"  # This will raise a TypeError\n",
    "s = \"Hello\"   # This creates a new string object\n",
    "```\n",
    "\n",
    "In summary, strings are immutable in Python to ensure efficiency, safety, and consistent behavior when used in data structures like dictionaries and sets."
   ]
  },
  {
   "cell_type": "markdown",
   "id": "19e23923",
   "metadata": {},
   "source": [
    "11. What advantages do dictionaries offer over lists for certain tasks?\n",
    "\n",
    "ANS: \n",
    "\n",
    "Dictionaries offer several advantages over lists for certain tasks in Python:\n",
    "\n",
    "- **Fast Lookup:** Dictionaries provide very fast access to values using unique keys, while lists require searching through elements by index or value.\n",
    "- **Key-Value Pair Storage:** Dictionaries store data as key-value pairs, making it easy to associate related information (e.g., a name with a phone number).\n",
    "- **No Need for Sequential Indexing:** You can access data directly by key, rather than by position, which is more intuitive for many real-world problems.\n",
    "- **Uniqueness of Keys:** Each key in a dictionary is unique, which helps prevent duplicate entries for the same item.\n",
    "- **Flexible Data Types:** Dictionary values can be of any data type, and keys can be any immutable type (like strings, numbers, or tuples).\n",
    "\n",
    "Example:\n",
    "```python\n",
    "# Using a dictionary for a phone book\n",
    "phone_book = {'Alice': '1234', 'Bob': '5678'}\n",
    "print(phone_book['Alice'])  # Fast lookup by name\n",
    "\n",
    "# Using a list for the same task would be less efficient and less clear\n",
    "contacts = [['Alice', '1234'], ['Bob', '5678']]\n",
    "# To find Alice's number, you would need to search through the list\n",
    "```\n"
   ]
  },
  {
   "cell_type": "markdown",
   "id": "3e4d8675",
   "metadata": {},
   "source": [
    "12.  Describe a scenario where using a tuple would be preferable over a list.\n",
    "\n",
    "ANS:\n",
    "\n",
    "A tuple would be preferable over a list in scenarios where you need a collection of items that should not change after creation—either for safety, clarity, or performance reasons. For example:\n",
    "\n",
    "- Fixed Data Groups: When you want to store a set of related values that logically should not change, such as coordinates (e.g., point = (3, 4)), RGB color values (e.g., color = (255, 0, 0)), or configuration constants (e.g., settings = (\"admin\", \"readonly\")), using a tuple signals to other developers that the data is intended to remain constant.\n",
    "\n",
    "- Dictionary Keys: Since tuples are immutable and hashable (if all elements are hashable), they can be used as keys in dictionaries, whereas lists cannot.\n",
    "\n",
    "- Returning Multiple Values from Functions: When a function needs to return multiple values, returning a tuple (e.g., return (status, result)) is more idiomatic and communicates that the returned values are meant to be treated as a single, fixed group.\n",
    "\n",
    "- Performance Considerations: If you are working with a collection that will not change and you need faster iteration or lower memory usage, tuples are generally more efficient than lists.\n",
    "\n",
    "In summary, use a tuple when you want to ensure the data remains unchanged and communicate that intent clearly in your code. This makes your program safer, more predictable, and sometimes more efficient.\n"
   ]
  },
  {
   "cell_type": "markdown",
   "id": "bc180e9f",
   "metadata": {},
   "source": [
    "13. How do sets handle duplicate values in Python?\n",
    "\n",
    "ANS:\n",
    "\n",
    "Sets in Python automatically remove duplicate values. When you create a set or add elements to it, any duplicate values are ignored, and only unique elements are stored. This means that a set can never contain more than one instance of the same value.\n",
    "\n",
    "Example:\n",
    "```python\n",
    "set = {1, 2, 2, 3, 4, 4, 5}\n",
    "print(set)  # Output: {1, 2, 3, 4, 5}\n",
    "```\n",
    "\n",
    "In summary, sets ensure that all elements are unique by discarding duplicates automatically. This property makes sets useful for tasks where uniqueness is important.\n"
   ]
  },
  {
   "cell_type": "markdown",
   "id": "828c61d9",
   "metadata": {},
   "source": [
    "14.  How does the “in” keyword work differently for lists and dictionaries?\n",
    "\n",
    "ANS:\n",
    "\n",
    "The `in` keyword is used to check for membership in both lists and dictionaries, but it works differently:\n",
    "\n",
    "- For lists:  \n",
    "  The `in` keyword checks if a specific value exists as an element in the list.\n",
    "  ```python\n",
    "  list = [1, 2, 3]\n",
    "  print(2 in my_list)  # True (checks if 2 is an element)\n",
    "  ```\n",
    "\n",
    "- For dictionaries:  \n",
    "  The `in` keyword checks if a specific value exists as a **key** in the dictionary, not as a value.\n",
    "  ```python\n",
    "  dict = {'a': 1, 'b': 2}\n",
    "  print('a' in my_dict)    # True (checks if 'a' is a key)\n",
    "  print(1 in my_dict)      # False (does not check values)\n",
    "  ```\n",
    "- In lists, `in` checks for elements.\n",
    "- In dictionaries, `in` checks for keys.\n"
   ]
  },
  {
   "cell_type": "markdown",
   "id": "7cff65b0",
   "metadata": {},
   "source": [
    "15. Can you modify the elements of a tuple? Explain why or why not.\n",
    "\n",
    "ANS:\n",
    "\n",
    "No, you cannot modify the elements of a tuple in Python. Tuples are **immutable**, which means that once a tuple is created, its elements cannot be changed, added, or removed. If you try to assign a new value to an element of a tuple, Python will raise a `TypeError`.\n",
    "\n",
    "**Example:**\n",
    "```python\n",
    "tuple = (1, 2, 3)\n",
    "tuple[0] = 10  # This will raise a TypeError\n",
    "```\n",
    "\n",
    "**Reason:**  \n",
    "Immutability ensures that the data stored in a tuple remains constant, which helps maintain data integrity and allows tuples to be used as keys in dictionaries and elements in sets."
   ]
  },
  {
   "cell_type": "markdown",
   "id": "935f4d02",
   "metadata": {},
   "source": [
    "16. What is a nested dictionary, and give an example of its use case?\n",
    "\n",
    "ANS: \n",
    "\n",
    "A nested dictionary in Python is a dictionary where some values are themselves dictionaries. This allows you to store complex, hierarchical data structures, such as information about multiple objects, each with their own attributes.\n",
    "\n",
    "Example use case:  \n",
    "Storing student records, where each student has their own dictionary of details:\n",
    "\n",
    "```python\n",
    "students = {\n",
    "    \"Alice\": {\"age\": 20, \"grade\": \"A\", \"city\": \"Delhi\"},\n",
    "    \"Bob\": {\"age\": 22, \"grade\": \"B\", \"city\": \"Mumbai\"}\n",
    "}\n",
    "\n",
    "# Accessing Alice's grade\n",
    "print(students[\"Alice\"][\"grade\"])  # Output: A\n",
    "```\n",
    "\n",
    "Nested dictionaries are useful for representing structured data, such as JSON objects, configuration files, or database-like records in Python."
   ]
  },
  {
   "cell_type": "markdown",
   "id": "e1bce64f",
   "metadata": {},
   "source": [
    "17.  Describe the time complexity of accessing elements in a dictionary?\n",
    "\n",
    "ANS:\n",
    "\n",
    "The average time complexity of accessing elements in a dictionary in Python is **O(1)** (constant time). This is because dictionaries use a hash table internally, allowing direct access to values using their keys.\n",
    "\n",
    "In rare cases with many hash collisions, the worst-case time complexity can become **O(n)**, where n is the number of elements in the dictionary. However, in practice, dictionary access is almost always very fast and close to O(1).\n"
   ]
  },
  {
   "cell_type": "markdown",
   "id": "1e6ab7a8",
   "metadata": {},
   "source": [
    "18.  In what situations are lists preferred over dictionaries?\n",
    "\n",
    "ANS:\n",
    "\n",
    "Lists are preferred over dictionaries in situations where:\n",
    "\n",
    "- Order matters: Lists maintain the order of elements, making them ideal when you need to preserve or access items by their position (index).\n",
    "- Sequential data: When you have a collection of items that are naturally ordered or need to be processed in sequence, such as a series of numbers, names, or tasks.\n",
    "- Duplicate values: Lists allow duplicate elements, so they are useful when repeated values are needed.\n",
    "- Simple collections: When you only need to store values without associating them with unique keys.\n",
    "- Index-based access: When you need to access, modify, or iterate over elements using their numeric index.\n",
    "\n",
    "Example use cases:  \n",
    "- Storing a list of student names in order of registration  \n",
    "- Maintaining a sequence of numbers or timestamps  \n",
    "- Collecting items in a shopping cart where duplicates are allowed\n",
    "\n",
    "In summary, use a list when you need an ordered, indexable, and possibly duplicate collection of items without key-value associations."
   ]
  },
  {
   "cell_type": "markdown",
   "id": "6d6ce0df",
   "metadata": {},
   "source": [
    "19. Why are dictionaries considered unordered, and how does that affect data retrieval?\n",
    "\n",
    "ANS:\n",
    "\n",
    "Dictionaries are considered unordered because, before Python 3.7, they did not maintain the order in which key-value pairs were added. The internal storage is based on hash tables, so the order of elements could change as items are added or removed.\n",
    "\n",
    "This means you cannot rely on the order of items when iterating over a dictionary in older versions of Python. As a result, data retrieval by key is always fast and efficient, but you cannot access items by their position or expect them to appear in a specific order.\n",
    "\n",
    "From Python 3.7 onwards, dictionaries preserve insertion order as an implementation detail, but conceptually, they are still designed for fast key-based access, not for ordered data storage. If you need to access elements by order, you should use a list or an OrderedDict (for older Python versions)."
   ]
  },
  {
   "cell_type": "markdown",
   "id": "64aebf5a",
   "metadata": {},
   "source": [
    "20. Explain the difference between a list and a dictionary in terms of data retrieval.\n",
    "\n",
    "ANS:\n",
    "\n",
    "The main difference between a list and a dictionary in terms of data retrieval is how you access their elements:\n",
    "\n",
    "- List: Elements are accessed by their numeric index. You must know the position of the item in the list to retrieve it. For example, my_list[2] returns the third element. Retrieving an element by index is fast (O(1)), but searching for a value requires scanning the list (O(n)).\n",
    "\n",
    "- Dictionary: Elements are accessed by unique keys, not by position. You retrieve a value by specifying its key, such as my_dict['name']. Dictionary lookups by key are very fast (average O(1)), regardless of the size of the dictionary.\n",
    "\n",
    "Summary:\n",
    "- Use a list when you need ordered, index-based access.\n",
    "- Use a dictionary when you need fast, key-based access to values.\n"
   ]
  },
  {
   "cell_type": "markdown",
   "id": "4318e0ab",
   "metadata": {},
   "source": [
    "**Data Types and Structures\n",
    "Assignment Practical Questions**"
   ]
  },
  {
   "cell_type": "markdown",
   "id": "5c3d4317",
   "metadata": {},
   "source": [
    "1. Write a code to create a string with your name and print it."
   ]
  },
  {
   "cell_type": "code",
   "execution_count": 2,
   "id": "37cacab6",
   "metadata": {},
   "outputs": [
    {
     "name": "stdout",
     "output_type": "stream",
     "text": [
      "Dhirendra Parmar\n"
     ]
    }
   ],
   "source": [
    "Name = \"Dhirendra Parmar\"\n",
    "print(Name)"
   ]
  },
  {
   "cell_type": "markdown",
   "id": "d85da3e3",
   "metadata": {},
   "source": [
    "2. Write a code to find the length of the string \"Hello World\"."
   ]
  },
  {
   "cell_type": "code",
   "execution_count": 3,
   "id": "e53d4a9f",
   "metadata": {},
   "outputs": [
    {
     "name": "stdout",
     "output_type": "stream",
     "text": [
      "Hello World\n"
     ]
    },
    {
     "data": {
      "text/plain": [
       "11"
      ]
     },
     "execution_count": 3,
     "metadata": {},
     "output_type": "execute_result"
    }
   ],
   "source": [
    "Name = \"Hello World\"\n",
    "print(Name)\n",
    "len(Name)"
   ]
  },
  {
   "cell_type": "markdown",
   "id": "2913c360",
   "metadata": {},
   "source": [
    "3. Write a code to slice the first 3 characters from the string \"Python Programming\"."
   ]
  },
  {
   "cell_type": "code",
   "execution_count": 4,
   "id": "b3aee103",
   "metadata": {},
   "outputs": [
    {
     "data": {
      "text/plain": [
       "'Pyh'"
      ]
     },
     "execution_count": 4,
     "metadata": {},
     "output_type": "execute_result"
    }
   ],
   "source": [
    "Name = \"Pyhton Programming\"\n",
    "Name[:3]"
   ]
  },
  {
   "cell_type": "markdown",
   "id": "ecc7f36c",
   "metadata": {},
   "source": [
    "4.Write a code to convert the string \"hello\" to uppercase.\n"
   ]
  },
  {
   "cell_type": "code",
   "execution_count": 5,
   "id": "168e4a58",
   "metadata": {},
   "outputs": [
    {
     "data": {
      "text/plain": [
       "'HELLO'"
      ]
     },
     "execution_count": 5,
     "metadata": {},
     "output_type": "execute_result"
    }
   ],
   "source": [
    "Name = \"hello\"\n",
    "Name.upper()"
   ]
  },
  {
   "cell_type": "markdown",
   "id": "8ef36be3",
   "metadata": {},
   "source": [
    "5. Write a code to replace the word \"apple\" with \"cherry\" in the string \"I like apple\"."
   ]
  },
  {
   "cell_type": "code",
   "execution_count": 6,
   "id": "5634349b",
   "metadata": {},
   "outputs": [
    {
     "data": {
      "text/plain": [
       "'I like cherry'"
      ]
     },
     "execution_count": 6,
     "metadata": {},
     "output_type": "execute_result"
    }
   ],
   "source": [
    "z = \"I like apple\"\n",
    "z.replace(\"apple\",\"cherry\")"
   ]
  },
  {
   "cell_type": "markdown",
   "id": "56c3c7fa",
   "metadata": {},
   "source": [
    "6. Write a code to create a list with numbers 1 to 5 and print it."
   ]
  },
  {
   "cell_type": "code",
   "execution_count": 7,
   "id": "694e64bb",
   "metadata": {},
   "outputs": [
    {
     "data": {
      "text/plain": [
       "[1, 2, 3, 4, 5]"
      ]
     },
     "execution_count": 7,
     "metadata": {},
     "output_type": "execute_result"
    }
   ],
   "source": [
    "z = [1, 2, 3, 4, 5]\n",
    "z"
   ]
  },
  {
   "cell_type": "markdown",
   "id": "8b40aaee",
   "metadata": {},
   "source": [
    "7. Write a code to append the number 10 to the list[1, 2, 3, 4]."
   ]
  },
  {
   "cell_type": "code",
   "execution_count": 8,
   "id": "5d4c32b3",
   "metadata": {},
   "outputs": [
    {
     "data": {
      "text/plain": [
       "[1, 2, 3, 4, 10]"
      ]
     },
     "execution_count": 8,
     "metadata": {},
     "output_type": "execute_result"
    }
   ],
   "source": [
    "z = [1, 2, 3, 4]\n",
    "z.append(10)\n",
    "z"
   ]
  },
  {
   "cell_type": "markdown",
   "id": "82b066ad",
   "metadata": {},
   "source": [
    "8. Write a code to remove the number 3 from the list[1, 2, 3, 4, 5]."
   ]
  },
  {
   "cell_type": "code",
   "execution_count": 9,
   "id": "c5da84da",
   "metadata": {},
   "outputs": [
    {
     "data": {
      "text/plain": [
       "[1, 2, 4, 5]"
      ]
     },
     "execution_count": 9,
     "metadata": {},
     "output_type": "execute_result"
    }
   ],
   "source": [
    "z = [1, 2, 3, 4, 5]\n",
    "z.remove(3)\n",
    "z"
   ]
  },
  {
   "cell_type": "markdown",
   "id": "9f45a66b",
   "metadata": {},
   "source": [
    "9. Write a code to access the second element in the list ['a', 'b', 'c', 'd']."
   ]
  },
  {
   "cell_type": "code",
   "execution_count": 10,
   "id": "0253f66a",
   "metadata": {},
   "outputs": [
    {
     "data": {
      "text/plain": [
       "'b'"
      ]
     },
     "execution_count": 10,
     "metadata": {},
     "output_type": "execute_result"
    }
   ],
   "source": [
    "z = ['a', 'b', 'c', 'd']\n",
    "z[1]"
   ]
  },
  {
   "cell_type": "markdown",
   "id": "40b6cf78",
   "metadata": {},
   "source": [
    "10. Write a code to reverse a list[10, 20, 30, 40, 50]."
   ]
  },
  {
   "cell_type": "code",
   "execution_count": 11,
   "id": "95f5a889",
   "metadata": {},
   "outputs": [
    {
     "data": {
      "text/plain": [
       "[50, 40, 30, 20, 10]"
      ]
     },
     "execution_count": 11,
     "metadata": {},
     "output_type": "execute_result"
    }
   ],
   "source": [
    "q = [10, 20, 30, 40, 50]\n",
    "q[::-1]"
   ]
  },
  {
   "cell_type": "markdown",
   "id": "f868482e",
   "metadata": {},
   "source": [
    "11. Write a code to create a tuple with the elements 100, 200, 300, 400 and print it."
   ]
  },
  {
   "cell_type": "code",
   "execution_count": 12,
   "id": "20c36d26",
   "metadata": {},
   "outputs": [
    {
     "data": {
      "text/plain": [
       "(100, 200, 300, 400)"
      ]
     },
     "execution_count": 12,
     "metadata": {},
     "output_type": "execute_result"
    }
   ],
   "source": [
    "tuple = (100, 200, 300, 400)\n",
    "tuple"
   ]
  },
  {
   "cell_type": "markdown",
   "id": "4d0a2347",
   "metadata": {},
   "source": [
    "12. Write a code to access the second-to-last element of the tuple ('red','green','blue','yellow')."
   ]
  },
  {
   "cell_type": "code",
   "execution_count": 13,
   "id": "9d447f81",
   "metadata": {},
   "outputs": [
    {
     "data": {
      "text/plain": [
       "'blue'"
      ]
     },
     "execution_count": 13,
     "metadata": {},
     "output_type": "execute_result"
    }
   ],
   "source": [
    "upl = ('red', 'green', 'blue', 'yellow')\n",
    "upl[-2]"
   ]
  },
  {
   "cell_type": "markdown",
   "id": "c5684249",
   "metadata": {},
   "source": [
    "13. Write a code to find a minimum number in the tuple (10, 20, 5, 15)."
   ]
  },
  {
   "cell_type": "code",
   "execution_count": 14,
   "id": "cb0ef44d",
   "metadata": {},
   "outputs": [
    {
     "name": "stdout",
     "output_type": "stream",
     "text": [
      "5\n"
     ]
    }
   ],
   "source": [
    "tuple = (10, 20, 5, 15)\n",
    "a = tuple[0]\n",
    "for i in tuple:\n",
    "    if a > i:\n",
    "        print(i)"
   ]
  },
  {
   "cell_type": "markdown",
   "id": "eb7b26ff",
   "metadata": {},
   "source": [
    "14. Write a code to find the index of the element \"cat\" in the tuple ('dog','cat','rabbit')."
   ]
  },
  {
   "cell_type": "code",
   "execution_count": 15,
   "id": "22e8e28f",
   "metadata": {},
   "outputs": [
    {
     "name": "stdout",
     "output_type": "stream",
     "text": [
      "1\n"
     ]
    }
   ],
   "source": [
    "tuple = ('dog','cat','rabbit')\n",
    "print(tuple.index('cat'))"
   ]
  },
  {
   "cell_type": "markdown",
   "id": "20ecf795",
   "metadata": {},
   "source": [
    "15. Write a code to create a tuple containig three different fruits and check if \"kiwi\" is in it."
   ]
  },
  {
   "cell_type": "code",
   "execution_count": 16,
   "id": "72251b5b",
   "metadata": {},
   "outputs": [
    {
     "name": "stdout",
     "output_type": "stream",
     "text": [
      "kiwi presenrt in tuple\n"
     ]
    }
   ],
   "source": [
    "tuple = ('cherry', 'apple', 'kiwi')\n",
    "if \"kiwi\" in tuple:\n",
    "    print(\"kiwi presenrt in tuple\")\n",
    "else: \n",
    "    print('kiwi is not present in tuple')\n"
   ]
  },
  {
   "cell_type": "markdown",
   "id": "1929bccd",
   "metadata": {},
   "source": [
    "16. Write a code to create a set with the elements 'a', 'b', 'c' and print it."
   ]
  },
  {
   "cell_type": "code",
   "execution_count": 17,
   "id": "56e107fc",
   "metadata": {},
   "outputs": [
    {
     "name": "stdout",
     "output_type": "stream",
     "text": [
      "{'b', 'c', 'a'}\n"
     ]
    }
   ],
   "source": [
    "set = {'a', 'b', 'c'}\n",
    "print(set)"
   ]
  },
  {
   "cell_type": "markdown",
   "id": "392b5bf6",
   "metadata": {},
   "source": [
    "17. Write a code to clear all elements from the set{1,2,3,4,5}."
   ]
  },
  {
   "cell_type": "code",
   "execution_count": 18,
   "id": "a06920ee",
   "metadata": {},
   "outputs": [
    {
     "name": "stdout",
     "output_type": "stream",
     "text": [
      "set()\n"
     ]
    }
   ],
   "source": [
    "set = {1, 2, 3, 4, 5}\n",
    "set.clear()\n",
    "print(set)"
   ]
  },
  {
   "cell_type": "markdown",
   "id": "437a954d",
   "metadata": {},
   "source": [
    "18. Write a code to remove the element 4 from the set {1, 2, 3, 4}."
   ]
  },
  {
   "cell_type": "code",
   "execution_count": 19,
   "id": "6a06f628",
   "metadata": {},
   "outputs": [
    {
     "name": "stdout",
     "output_type": "stream",
     "text": [
      "{1, 2, 3}\n"
     ]
    }
   ],
   "source": [
    "set = {1, 2, 3, 4}\n",
    "set.remove(4)\n",
    "print(set)"
   ]
  },
  {
   "cell_type": "markdown",
   "id": "5c163131",
   "metadata": {},
   "source": [
    "19. Write a code to find the union of two sets {1, 2, 3} and {3, 4, 5}."
   ]
  },
  {
   "cell_type": "code",
   "execution_count": 20,
   "id": "e2c90790",
   "metadata": {},
   "outputs": [
    {
     "data": {
      "text/plain": [
       "{1, 2, 3, 4, 5}"
      ]
     },
     "execution_count": 20,
     "metadata": {},
     "output_type": "execute_result"
    }
   ],
   "source": [
    "set1 = {1, 2, 3}\n",
    "set2 = {3, 4, 5}\n",
    "set1 | set2  # set1.union(set2)"
   ]
  },
  {
   "cell_type": "markdown",
   "id": "437770ea",
   "metadata": {},
   "source": [
    "20. Write a code to find the intersection of two sets {1,2,3} and {2,3,4}."
   ]
  },
  {
   "cell_type": "code",
   "execution_count": 21,
   "id": "56c219cb",
   "metadata": {},
   "outputs": [
    {
     "data": {
      "text/plain": [
       "{2, 3}"
      ]
     },
     "execution_count": 21,
     "metadata": {},
     "output_type": "execute_result"
    }
   ],
   "source": [
    "set1 = {1, 2, 3}\n",
    "set2 = {2, 3, 4}\n",
    "set1.intersection(set2)  # set1 & set2"
   ]
  },
  {
   "cell_type": "markdown",
   "id": "ec5eba23",
   "metadata": {},
   "source": [
    "21. Write a code to create a dictionary with the keys \"name\",\"age\", and \"city\", and print it."
   ]
  },
  {
   "cell_type": "code",
   "execution_count": 22,
   "id": "8cab8c30",
   "metadata": {},
   "outputs": [
    {
     "data": {
      "text/plain": [
       "{'name': 'dhir', 'age': 33, 'city': 'abc'}"
      ]
     },
     "execution_count": 22,
     "metadata": {},
     "output_type": "execute_result"
    }
   ],
   "source": [
    "dict = {\"name\" : \"dhir\", \"age\" : 33 , \"city\" : \"abc\"}\n",
    "dict"
   ]
  },
  {
   "cell_type": "markdown",
   "id": "f05cece6",
   "metadata": {},
   "source": [
    "22. Write a code to add a new key - value pair \"country\" : \"USA\" to the dictionary {'name':'john' ,'age':25}"
   ]
  },
  {
   "cell_type": "code",
   "execution_count": 23,
   "id": "f02c6618",
   "metadata": {},
   "outputs": [
    {
     "data": {
      "text/plain": [
       "{'name': 'john', 'age': 25, 'country': 'USA'}"
      ]
     },
     "execution_count": 23,
     "metadata": {},
     "output_type": "execute_result"
    }
   ],
   "source": [
    "dict = {'name': 'john', 'age': 25}\n",
    "dict.update({\"country\": \"USA\"})\n",
    "dict"
   ]
  },
  {
   "cell_type": "markdown",
   "id": "5e9be1b8",
   "metadata": {},
   "source": [
    "23. Write a code to access the value associated with the key \"name\" in dictionary {'name':'alice', 'age':30}"
   ]
  },
  {
   "cell_type": "code",
   "execution_count": 24,
   "id": "f958bfb7",
   "metadata": {},
   "outputs": [
    {
     "name": "stdout",
     "output_type": "stream",
     "text": [
      "alice\n"
     ]
    }
   ],
   "source": [
    "dict = {'name': 'alice','age': 30}\n",
    "print(dict['name'])"
   ]
  },
  {
   "cell_type": "markdown",
   "id": "b27ec33d",
   "metadata": {},
   "source": [
    "24. Write a code to remove the key \"age\" from the dictionary {'name':'bob','age':22,'city':'new york'}."
   ]
  },
  {
   "cell_type": "code",
   "execution_count": 25,
   "id": "5daf5a20",
   "metadata": {},
   "outputs": [
    {
     "data": {
      "text/plain": [
       "{'name': 'bob', 'city': 'new york'}"
      ]
     },
     "execution_count": 25,
     "metadata": {},
     "output_type": "execute_result"
    }
   ],
   "source": [
    "dict1 = {'name':'bob', 'age':22, 'city':'new york'}\n",
    "dict1.pop('age')\n",
    "dict1"
   ]
  },
  {
   "cell_type": "markdown",
   "id": "ffc06f09",
   "metadata": {},
   "source": [
    "25. Write a code to check if the key \"city\" exists in the dictionry {'name':'alice', 'city':'paris'}"
   ]
  },
  {
   "cell_type": "code",
   "execution_count": 26,
   "id": "1b4d44a8",
   "metadata": {},
   "outputs": [
    {
     "name": "stdout",
     "output_type": "stream",
     "text": [
      "Key 'city' exists in the dictionary.\n"
     ]
    }
   ],
   "source": [
    "dict = {'name':'alice', 'city':'paris'}\n",
    "if \"city\" in dict:\n",
    "    print(\"Key 'city' exists in the dictionary.\")\n",
    "else:\n",
    "    print(\"Key 'city' does not exists in the dictionary.\")\n",
    "    "
   ]
  },
  {
   "cell_type": "markdown",
   "id": "02d0c974",
   "metadata": {},
   "source": [
    "26. Write a code to create a list, a tuple, and a dictionary and print them all."
   ]
  },
  {
   "cell_type": "code",
   "execution_count": 27,
   "id": "5f808c44",
   "metadata": {},
   "outputs": [
    {
     "name": "stdout",
     "output_type": "stream",
     "text": [
      "List: [1, 2, 3, 4, 5]\n",
      "Tuple: ('a', 'b', 'c')\n",
      "Dictionary: {'name': 'Alice', 'city': 'Paris'}\n"
     ]
    }
   ],
   "source": [
    "my_list = [1, 2, 3, 4, 5]\n",
    "my_tuple = ('a', 'b', 'c')\n",
    "my_dict = {'name': 'Alice', 'city': 'Paris'}\n",
    "\n",
    "print(\"List:\", my_list)\n",
    "print(\"Tuple:\", my_tuple)\n",
    "print(\"Dictionary:\", my_dict)"
   ]
  },
  {
   "cell_type": "markdown",
   "id": "2b24d4fb",
   "metadata": {},
   "source": [
    "27. Write a code to create a list of 5 random numbers between 1 and 100, sort it in ascendig order, and print the result.(replaced)  "
   ]
  },
  {
   "cell_type": "code",
   "execution_count": 28,
   "id": "f76a28c4",
   "metadata": {},
   "outputs": [
    {
     "name": "stdout",
     "output_type": "stream",
     "text": [
      "[5, 42, 47, 57, 62]\n"
     ]
    }
   ],
   "source": [
    "import random\n",
    "\n",
    "numbers = [random.randint(1, 100) for i in range(5)]\n",
    "numbers.sort()\n",
    "print(numbers)"
   ]
  },
  {
   "cell_type": "markdown",
   "id": "8585fad8",
   "metadata": {},
   "source": [
    "28. Write a code to create a list with strings and print the element at the third index."
   ]
  },
  {
   "cell_type": "code",
   "execution_count": 29,
   "id": "667af146",
   "metadata": {},
   "outputs": [
    {
     "name": "stdout",
     "output_type": "stream",
     "text": [
      "chiku\n"
     ]
    }
   ],
   "source": [
    "list = [\"cherry\", \"poteto\", \"banana\", \"chiku\", \"Apple\", \"poteto\"]\n",
    "print(list[3])"
   ]
  },
  {
   "cell_type": "markdown",
   "id": "d2a95032",
   "metadata": {},
   "source": [
    "29. Write a code to combine two dictionaries into one and print the result."
   ]
  },
  {
   "cell_type": "code",
   "execution_count": 30,
   "id": "284ab67b",
   "metadata": {},
   "outputs": [
    {
     "name": "stdout",
     "output_type": "stream",
     "text": [
      "{'Name': 'Mein Kampf', 'Age': 'Adolf Hitelar', 'City': 'non-Fiction'}\n"
     ]
    }
   ],
   "source": [
    "dict1 = {\"Name\": \"Alice\", \"Age\": 23, \"City\": \"New york\"}\n",
    "dict2 = {\"Title\": \"Mein Kampf\", \"Auther\": \"Adolf Hitelar\", \"Genre\": \"non-Fiction\"}\n",
    "\n",
    "# Combine the two dictionaries using for loop and zip (pairs values with same keys)\n",
    "combined_dict = {}\n",
    "for key, value in zip(dict1.keys(), dict2.values()):\n",
    "    combined_dict[key] = value\n",
    "print(combined_dict)\n"
   ]
  },
  {
   "cell_type": "code",
   "execution_count": 31,
   "id": "87fc20a6",
   "metadata": {},
   "outputs": [
    {
     "name": "stdout",
     "output_type": "stream",
     "text": [
      "{'Name': 'Alice', 'Age': 23, 'City': 'New york', 'Title': 'Mein Kampf', 'Auther': 'Adolf Hitelar', 'Genre': 'non-Fiction'}\n",
      "{'Name': 'Alice', 'Age': 23, 'City': 'New york', 'Title': 'Mein Kampf', 'Auther': 'Adolf Hitelar', 'Genre': 'non-Fiction'}\n"
     ]
    }
   ],
   "source": [
    "dict1.update(dict2)\n",
    "print(dict1)\n",
    "dict1 | dict2\n",
    "print(dict1)"
   ]
  },
  {
   "cell_type": "markdown",
   "id": "aaf8f23b",
   "metadata": {},
   "source": [
    "30. Write a code to convert a list of strings into a set. "
   ]
  },
  {
   "cell_type": "code",
   "execution_count": 1,
   "id": "518096ec",
   "metadata": {},
   "outputs": [
    {
     "name": "stdout",
     "output_type": "stream",
     "text": [
      "{'cherry', 'Apple', 'potato', 'banana'}\n"
     ]
    }
   ],
   "source": [
    "my_list = [\"cherry\", \"potato\", \"banana\", \"Apple\", \"potato\"]\n",
    "my_set = set(my_list)\n",
    "print(my_set)"
   ]
  },
  {
   "cell_type": "markdown",
   "id": "c77969fb",
   "metadata": {},
   "source": []
  }
 ],
 "metadata": {
  "kernelspec": {
   "display_name": "Python 3",
   "language": "python",
   "name": "python3"
  },
  "language_info": {
   "codemirror_mode": {
    "name": "ipython",
    "version": 3
   },
   "file_extension": ".py",
   "mimetype": "text/x-python",
   "name": "python",
   "nbconvert_exporter": "python",
   "pygments_lexer": "ipython3",
   "version": "3.13.3"
  }
 },
 "nbformat": 4,
 "nbformat_minor": 5
}
